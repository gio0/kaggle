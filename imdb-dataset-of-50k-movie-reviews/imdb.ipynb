{
 "cells": [
  {
   "cell_type": "markdown",
   "id": "0d817dc9-033a-4f62-80bb-014f2724cbf6",
   "metadata": {},
   "source": [
    "# IMDB Dataset of 50K Movie Reviews\n",
    "\n",
    "https://www.kaggle.com/lakshmi25npathi/imdb-dataset-of-50k-movie-reviews"
   ]
  },
  {
   "cell_type": "code",
   "execution_count": 3,
   "id": "9440c119-36b1-40b4-8216-9e954b13b074",
   "metadata": {},
   "outputs": [],
   "source": [
    "import pandas as pd\n",
    "\n",
    "from sklearn.feature_extraction.text import CountVectorizer\n",
    "from sklearn.feature_extraction.text import TfidfVectorizer\n",
    "from sklearn.model_selection import train_test_split\n",
    "from sklearn.model_selection import GridSearchCV\n",
    "\n",
    "from sklearn.metrics import classification_report\n",
    "from sklearn.metrics import confusion_matrix\n",
    "from sklearn.feature_extraction import text\n",
    "\n",
    "from sklearn.pipeline import Pipeline\n",
    "\n",
    "import string"
   ]
  },
  {
   "cell_type": "code",
   "execution_count": 4,
   "id": "2d0d53b5-5147-459e-9e47-a851515fbd82",
   "metadata": {},
   "outputs": [
    {
     "data": {
      "text/html": [
       "<div>\n",
       "<style scoped>\n",
       "    .dataframe tbody tr th:only-of-type {\n",
       "        vertical-align: middle;\n",
       "    }\n",
       "\n",
       "    .dataframe tbody tr th {\n",
       "        vertical-align: top;\n",
       "    }\n",
       "\n",
       "    .dataframe thead th {\n",
       "        text-align: right;\n",
       "    }\n",
       "</style>\n",
       "<table border=\"1\" class=\"dataframe\">\n",
       "  <thead>\n",
       "    <tr style=\"text-align: right;\">\n",
       "      <th></th>\n",
       "      <th>review</th>\n",
       "      <th>sentiment</th>\n",
       "    </tr>\n",
       "  </thead>\n",
       "  <tbody>\n",
       "    <tr>\n",
       "      <th>0</th>\n",
       "      <td>One of the other reviewers has mentioned that ...</td>\n",
       "      <td>1</td>\n",
       "    </tr>\n",
       "    <tr>\n",
       "      <th>1</th>\n",
       "      <td>A wonderful little production. &lt;br /&gt;&lt;br /&gt;The...</td>\n",
       "      <td>1</td>\n",
       "    </tr>\n",
       "    <tr>\n",
       "      <th>2</th>\n",
       "      <td>I thought this was a wonderful way to spend ti...</td>\n",
       "      <td>1</td>\n",
       "    </tr>\n",
       "    <tr>\n",
       "      <th>3</th>\n",
       "      <td>Basically there's a family where a little boy ...</td>\n",
       "      <td>0</td>\n",
       "    </tr>\n",
       "    <tr>\n",
       "      <th>4</th>\n",
       "      <td>Petter Mattei's \"Love in the Time of Money\" is...</td>\n",
       "      <td>1</td>\n",
       "    </tr>\n",
       "  </tbody>\n",
       "</table>\n",
       "</div>"
      ],
      "text/plain": [
       "                                              review  sentiment\n",
       "0  One of the other reviewers has mentioned that ...          1\n",
       "1  A wonderful little production. <br /><br />The...          1\n",
       "2  I thought this was a wonderful way to spend ti...          1\n",
       "3  Basically there's a family where a little boy ...          0\n",
       "4  Petter Mattei's \"Love in the Time of Money\" is...          1"
      ]
     },
     "execution_count": 4,
     "metadata": {},
     "output_type": "execute_result"
    }
   ],
   "source": [
    "f = \"data/IMDB Dataset.csv\"\n",
    "df = pd.read_csv(f)\n",
    "\n",
    "ratings = {'positive': 1, 'negative': 0}\n",
    "df['sentiment'] = df['sentiment'].replace(ratings)\n",
    "df.head()"
   ]
  },
  {
   "cell_type": "code",
   "execution_count": 5,
   "id": "7cc94e2b-7818-4fbe-ba24-12fdfece7e31",
   "metadata": {},
   "outputs": [
    {
     "data": {
      "text/plain": [
       "(50000, 2)"
      ]
     },
     "execution_count": 5,
     "metadata": {},
     "output_type": "execute_result"
    }
   ],
   "source": [
    "df.shape"
   ]
  },
  {
   "cell_type": "code",
   "execution_count": 6,
   "id": "fda6a77a-9149-4669-87ca-582714e2644c",
   "metadata": {},
   "outputs": [
    {
     "data": {
      "text/plain": [
       "0    25000\n",
       "1    25000\n",
       "Name: sentiment, dtype: int64"
      ]
     },
     "execution_count": 6,
     "metadata": {},
     "output_type": "execute_result"
    }
   ],
   "source": [
    "# balanced classes\n",
    "df['sentiment'].value_counts()"
   ]
  },
  {
   "cell_type": "raw",
   "id": "8347b67c-8099-4e68-8fc7-b980cf177b37",
   "metadata": {},
   "source": [
    "# view sample reviews\n",
    "for doc in df['review'].sample(3):\n",
    "    print(doc)\n",
    "    print()"
   ]
  },
  {
   "cell_type": "code",
   "execution_count": 7,
   "id": "c20bbdfe-d6fa-44c0-b728-9492137fb9af",
   "metadata": {},
   "outputs": [],
   "source": [
    "remove_chars = [\"£\", \"«\",  \"»\",  \"–\",  \"’\",  \"“\", \"”\"]\n",
    "\n",
    "stopwords = text.ENGLISH_STOP_WORDS\n",
    "\n",
    "def preprocess(doc):\n",
    "    doc = doc.replace(\"<br />\", \" \")\n",
    "    doc = \"\".join([char for char in doc if char not in string.punctuation and not char.isdigit() and char not in remove_chars])\n",
    "    doc = \" \".join([token.lower() for token in doc.split() if token not in stopwords])\n",
    "    return doc"
   ]
  },
  {
   "cell_type": "code",
   "execution_count": 8,
   "id": "78929bf6-be86-4a08-982c-2dcabab2d394",
   "metadata": {},
   "outputs": [
    {
     "name": "stdout",
     "output_type": "stream",
     "text": [
      "Train:      ((40000,), (40000,))\n",
      "Test        ((10000,), (10000,))\n"
     ]
    }
   ],
   "source": [
    "# Split into train, validate, test sets\n",
    "X = df['review']\n",
    "y = df['sentiment']\n",
    "\n",
    "# hold out 20% of data for testing\n",
    "X_train, X_test, y_train, y_test = train_test_split(X, y, test_size=.2, random_state=0)\n",
    "\n",
    "print(f\"Train:      {X_train.shape, y_train.shape}\")\n",
    "print(f\"Test        {X_test.shape, y_test.shape}\")"
   ]
  },
  {
   "cell_type": "markdown",
   "id": "f8559124-b2fe-40d1-9091-9ea4d9387d3b",
   "metadata": {},
   "source": [
    "# Model Selection"
   ]
  },
  {
   "cell_type": "code",
   "execution_count": 9,
   "id": "661263ff-4cc0-4788-bc37-ad26cafc6137",
   "metadata": {},
   "outputs": [],
   "source": [
    "# from sklearn.dummy import DummyClassifier\n",
    "from sklearn.linear_model import LogisticRegression\n",
    "from sklearn.naive_bayes import MultinomialNB\n",
    "from sklearn.svm import LinearSVC\n",
    "from sklearn.ensemble import RandomForestClassifier"
   ]
  },
  {
   "cell_type": "code",
   "execution_count": 10,
   "id": "7a0e1f6f-4352-4282-8aed-f9bfd3ac236c",
   "metadata": {},
   "outputs": [],
   "source": [
    "pipeline = Pipeline([\n",
    "    ('vectorize', TfidfVectorizer(preprocessor=preprocess)),\n",
    "    ('clf',None),\n",
    "])"
   ]
  },
  {
   "cell_type": "code",
   "execution_count": 12,
   "id": "d53ff337-3e62-4d00-9a8f-612da2ce8386",
   "metadata": {},
   "outputs": [],
   "source": [
    "search_space = [\n",
    "    {\"clf\": [LogisticRegression()]},\n",
    "    {\"clf\": [MultinomialNB()]},\n",
    "    {\"clf\": [LinearSVC()]},\n",
    "    {\"clf\": [RandomForestClassifier()], 'clf__max_depth': [10]}\n",
    "    \n",
    "]\n",
    "\n",
    "grid_search = GridSearchCV(pipeline, search_space, cv=3, verbose=1, scoring='accuracy')"
   ]
  },
  {
   "cell_type": "code",
   "execution_count": 13,
   "id": "7209331d-3731-42f6-a545-5519b1bfb3f5",
   "metadata": {},
   "outputs": [
    {
     "name": "stdout",
     "output_type": "stream",
     "text": [
      "Fitting 3 folds for each of 4 candidates, totalling 12 fits\n",
      "CPU times: user 4min 2s, sys: 1.92 s, total: 4min 4s\n",
      "Wall time: 4min 1s\n"
     ]
    },
    {
     "data": {
      "text/plain": [
       "GridSearchCV(cv=3,\n",
       "             estimator=Pipeline(steps=[('vectorize',\n",
       "                                        TfidfVectorizer(preprocessor=<function preprocess at 0x7f901447b430>)),\n",
       "                                       ('clf', None)]),\n",
       "             param_grid=[{'clf': [LogisticRegression()]},\n",
       "                         {'clf': [MultinomialNB()]}, {'clf': [LinearSVC()]},\n",
       "                         {'clf': [RandomForestClassifier()],\n",
       "                          'clf__max_depth': [10]}],\n",
       "             scoring='accuracy', verbose=1)"
      ]
     },
     "execution_count": 13,
     "metadata": {},
     "output_type": "execute_result"
    }
   ],
   "source": [
    "%%time\n",
    "grid_search.fit(X_train, y_train)"
   ]
  },
  {
   "cell_type": "code",
   "execution_count": 11,
   "id": "66db259c-61c1-4849-9586-cb0163c786ec",
   "metadata": {},
   "outputs": [
    {
     "data": {
      "text/html": [
       "<div>\n",
       "<style scoped>\n",
       "    .dataframe tbody tr th:only-of-type {\n",
       "        vertical-align: middle;\n",
       "    }\n",
       "\n",
       "    .dataframe tbody tr th {\n",
       "        vertical-align: top;\n",
       "    }\n",
       "\n",
       "    .dataframe thead th {\n",
       "        text-align: right;\n",
       "    }\n",
       "</style>\n",
       "<table border=\"1\" class=\"dataframe\">\n",
       "  <thead>\n",
       "    <tr style=\"text-align: right;\">\n",
       "      <th></th>\n",
       "      <th>mean_fit_time</th>\n",
       "      <th>std_fit_time</th>\n",
       "      <th>mean_score_time</th>\n",
       "      <th>std_score_time</th>\n",
       "      <th>param_clf</th>\n",
       "      <th>param_clf__max_depth</th>\n",
       "      <th>params</th>\n",
       "      <th>split0_test_score</th>\n",
       "      <th>split1_test_score</th>\n",
       "      <th>split2_test_score</th>\n",
       "      <th>split3_test_score</th>\n",
       "      <th>split4_test_score</th>\n",
       "      <th>mean_test_score</th>\n",
       "      <th>std_test_score</th>\n",
       "      <th>rank_test_score</th>\n",
       "    </tr>\n",
       "  </thead>\n",
       "  <tbody>\n",
       "    <tr>\n",
       "      <th>2</th>\n",
       "      <td>16.118946</td>\n",
       "      <td>0.791819</td>\n",
       "      <td>3.835284</td>\n",
       "      <td>0.151234</td>\n",
       "      <td>LinearSVC()</td>\n",
       "      <td>NaN</td>\n",
       "      <td>{'clf': LinearSVC()}</td>\n",
       "      <td>0.896500</td>\n",
       "      <td>0.896000</td>\n",
       "      <td>0.888500</td>\n",
       "      <td>0.889000</td>\n",
       "      <td>0.894375</td>\n",
       "      <td>0.892875</td>\n",
       "      <td>0.003444</td>\n",
       "      <td>1</td>\n",
       "    </tr>\n",
       "    <tr>\n",
       "      <th>0</th>\n",
       "      <td>18.916425</td>\n",
       "      <td>1.041195</td>\n",
       "      <td>4.048282</td>\n",
       "      <td>0.223297</td>\n",
       "      <td>LogisticRegression()</td>\n",
       "      <td>NaN</td>\n",
       "      <td>{'clf': LogisticRegression()}</td>\n",
       "      <td>0.895125</td>\n",
       "      <td>0.892125</td>\n",
       "      <td>0.889625</td>\n",
       "      <td>0.888125</td>\n",
       "      <td>0.894875</td>\n",
       "      <td>0.891975</td>\n",
       "      <td>0.002782</td>\n",
       "      <td>2</td>\n",
       "    </tr>\n",
       "    <tr>\n",
       "      <th>1</th>\n",
       "      <td>16.852530</td>\n",
       "      <td>1.716631</td>\n",
       "      <td>3.869602</td>\n",
       "      <td>0.085778</td>\n",
       "      <td>MultinomialNB()</td>\n",
       "      <td>NaN</td>\n",
       "      <td>{'clf': MultinomialNB()}</td>\n",
       "      <td>0.869375</td>\n",
       "      <td>0.856750</td>\n",
       "      <td>0.862750</td>\n",
       "      <td>0.859125</td>\n",
       "      <td>0.869625</td>\n",
       "      <td>0.863525</td>\n",
       "      <td>0.005240</td>\n",
       "      <td>3</td>\n",
       "    </tr>\n",
       "    <tr>\n",
       "      <th>3</th>\n",
       "      <td>17.905089</td>\n",
       "      <td>0.896245</td>\n",
       "      <td>4.178711</td>\n",
       "      <td>0.119135</td>\n",
       "      <td>RandomForestClassifier()</td>\n",
       "      <td>10</td>\n",
       "      <td>{'clf': RandomForestClassifier(), 'clf__max_de...</td>\n",
       "      <td>0.826875</td>\n",
       "      <td>0.816125</td>\n",
       "      <td>0.831625</td>\n",
       "      <td>0.815500</td>\n",
       "      <td>0.828500</td>\n",
       "      <td>0.823725</td>\n",
       "      <td>0.006641</td>\n",
       "      <td>4</td>\n",
       "    </tr>\n",
       "  </tbody>\n",
       "</table>\n",
       "</div>"
      ],
      "text/plain": [
       "   mean_fit_time  std_fit_time  mean_score_time  std_score_time  \\\n",
       "2      16.118946      0.791819         3.835284        0.151234   \n",
       "0      18.916425      1.041195         4.048282        0.223297   \n",
       "1      16.852530      1.716631         3.869602        0.085778   \n",
       "3      17.905089      0.896245         4.178711        0.119135   \n",
       "\n",
       "                  param_clf param_clf__max_depth  \\\n",
       "2               LinearSVC()                  NaN   \n",
       "0      LogisticRegression()                  NaN   \n",
       "1           MultinomialNB()                  NaN   \n",
       "3  RandomForestClassifier()                   10   \n",
       "\n",
       "                                              params  split0_test_score  \\\n",
       "2                               {'clf': LinearSVC()}           0.896500   \n",
       "0                      {'clf': LogisticRegression()}           0.895125   \n",
       "1                           {'clf': MultinomialNB()}           0.869375   \n",
       "3  {'clf': RandomForestClassifier(), 'clf__max_de...           0.826875   \n",
       "\n",
       "   split1_test_score  split2_test_score  split3_test_score  split4_test_score  \\\n",
       "2           0.896000           0.888500           0.889000           0.894375   \n",
       "0           0.892125           0.889625           0.888125           0.894875   \n",
       "1           0.856750           0.862750           0.859125           0.869625   \n",
       "3           0.816125           0.831625           0.815500           0.828500   \n",
       "\n",
       "   mean_test_score  std_test_score  rank_test_score  \n",
       "2         0.892875        0.003444                1  \n",
       "0         0.891975        0.002782                2  \n",
       "1         0.863525        0.005240                3  \n",
       "3         0.823725        0.006641                4  "
      ]
     },
     "execution_count": 11,
     "metadata": {},
     "output_type": "execute_result"
    }
   ],
   "source": [
    "pd.DataFrame(grid_search.cv_results_).sort_values('rank_test_score')"
   ]
  },
  {
   "cell_type": "markdown",
   "id": "822c6451-7669-433e-b3f4-290d5d8a6abb",
   "metadata": {},
   "source": [
    "# Parameter Selection"
   ]
  },
  {
   "cell_type": "code",
   "execution_count": 11,
   "id": "415720f6-aaae-4672-97f1-10c2315eca4f",
   "metadata": {},
   "outputs": [],
   "source": [
    "parameters = {\n",
    "    'vectorize__max_features': [10000],\n",
    "    'vectorize__ngram_range': [(1, 1), (1, 2)],\n",
    "    'clf':  [LogisticRegression()],\n",
    "    'clf__penalty': ['l1', 'l2'],\n",
    "    'clf__C': [1, 10],\n",
    "    'clf__solver': ['liblinear']\n",
    "}\n",
    "\n",
    "lr_clf = GridSearchCV(pipeline, parameters, verbose=3, cv=3,refit=False, scoring='accuracy')"
   ]
  },
  {
   "cell_type": "code",
   "execution_count": 12,
   "id": "be1afbd6-d8ba-48d7-b48e-af22674d91d4",
   "metadata": {},
   "outputs": [
    {
     "name": "stdout",
     "output_type": "stream",
     "text": [
      "Fitting 3 folds for each of 8 candidates, totalling 24 fits\n",
      "[CV 1/3] END clf=LogisticRegression(), clf__C=1, clf__penalty=l1, clf__solver=liblinear, vectorize__max_features=10000, vectorize__ngram_range=(1, 1);, score=0.877 total time=  19.5s\n",
      "[CV 2/3] END clf=LogisticRegression(), clf__C=1, clf__penalty=l1, clf__solver=liblinear, vectorize__max_features=10000, vectorize__ngram_range=(1, 1);, score=0.874 total time=  23.1s\n",
      "[CV 3/3] END clf=LogisticRegression(), clf__C=1, clf__penalty=l1, clf__solver=liblinear, vectorize__max_features=10000, vectorize__ngram_range=(1, 1);, score=0.879 total time=  21.0s\n",
      "[CV 1/3] END clf=LogisticRegression(), clf__C=1, clf__penalty=l1, clf__solver=liblinear, vectorize__max_features=10000, vectorize__ngram_range=(1, 2);, score=0.878 total time=  35.5s\n",
      "[CV 2/3] END clf=LogisticRegression(), clf__C=1, clf__penalty=l1, clf__solver=liblinear, vectorize__max_features=10000, vectorize__ngram_range=(1, 2);, score=0.876 total time=  36.8s\n",
      "[CV 3/3] END clf=LogisticRegression(), clf__C=1, clf__penalty=l1, clf__solver=liblinear, vectorize__max_features=10000, vectorize__ngram_range=(1, 2);, score=0.879 total time=  33.4s\n",
      "[CV 1/3] END clf=LogisticRegression(), clf__C=1, clf__penalty=l2, clf__solver=liblinear, vectorize__max_features=10000, vectorize__ngram_range=(1, 1);, score=0.891 total time=  17.9s\n",
      "[CV 2/3] END clf=LogisticRegression(), clf__C=1, clf__penalty=l2, clf__solver=liblinear, vectorize__max_features=10000, vectorize__ngram_range=(1, 1);, score=0.884 total time=  18.0s\n",
      "[CV 3/3] END clf=LogisticRegression(), clf__C=1, clf__penalty=l2, clf__solver=liblinear, vectorize__max_features=10000, vectorize__ngram_range=(1, 1);, score=0.888 total time=  17.6s\n",
      "[CV 1/3] END clf=LogisticRegression(), clf__C=1, clf__penalty=l2, clf__solver=liblinear, vectorize__max_features=10000, vectorize__ngram_range=(1, 2);, score=0.892 total time=  29.7s\n",
      "[CV 2/3] END clf=LogisticRegression(), clf__C=1, clf__penalty=l2, clf__solver=liblinear, vectorize__max_features=10000, vectorize__ngram_range=(1, 2);, score=0.886 total time=  29.1s\n",
      "[CV 3/3] END clf=LogisticRegression(), clf__C=1, clf__penalty=l2, clf__solver=liblinear, vectorize__max_features=10000, vectorize__ngram_range=(1, 2);, score=0.889 total time=  29.3s\n",
      "[CV 1/3] END clf=LogisticRegression(), clf__C=10, clf__penalty=l1, clf__solver=liblinear, vectorize__max_features=10000, vectorize__ngram_range=(1, 1);, score=0.866 total time=  18.3s\n",
      "[CV 2/3] END clf=LogisticRegression(), clf__C=10, clf__penalty=l1, clf__solver=liblinear, vectorize__max_features=10000, vectorize__ngram_range=(1, 1);, score=0.858 total time=  18.6s\n",
      "[CV 3/3] END clf=LogisticRegression(), clf__C=10, clf__penalty=l1, clf__solver=liblinear, vectorize__max_features=10000, vectorize__ngram_range=(1, 1);, score=0.866 total time=  19.2s\n",
      "[CV 1/3] END clf=LogisticRegression(), clf__C=10, clf__penalty=l1, clf__solver=liblinear, vectorize__max_features=10000, vectorize__ngram_range=(1, 2);, score=0.869 total time=  30.5s\n",
      "[CV 2/3] END clf=LogisticRegression(), clf__C=10, clf__penalty=l1, clf__solver=liblinear, vectorize__max_features=10000, vectorize__ngram_range=(1, 2);, score=0.863 total time=  30.5s\n",
      "[CV 3/3] END clf=LogisticRegression(), clf__C=10, clf__penalty=l1, clf__solver=liblinear, vectorize__max_features=10000, vectorize__ngram_range=(1, 2);, score=0.869 total time=  30.4s\n",
      "[CV 1/3] END clf=LogisticRegression(), clf__C=10, clf__penalty=l2, clf__solver=liblinear, vectorize__max_features=10000, vectorize__ngram_range=(1, 1);, score=0.885 total time=  18.0s\n",
      "[CV 2/3] END clf=LogisticRegression(), clf__C=10, clf__penalty=l2, clf__solver=liblinear, vectorize__max_features=10000, vectorize__ngram_range=(1, 1);, score=0.878 total time=  17.9s\n",
      "[CV 3/3] END clf=LogisticRegression(), clf__C=10, clf__penalty=l2, clf__solver=liblinear, vectorize__max_features=10000, vectorize__ngram_range=(1, 1);, score=0.883 total time=  20.6s\n",
      "[CV 1/3] END clf=LogisticRegression(), clf__C=10, clf__penalty=l2, clf__solver=liblinear, vectorize__max_features=10000, vectorize__ngram_range=(1, 2);, score=0.888 total time=  31.3s\n",
      "[CV 2/3] END clf=LogisticRegression(), clf__C=10, clf__penalty=l2, clf__solver=liblinear, vectorize__max_features=10000, vectorize__ngram_range=(1, 2);, score=0.879 total time=  29.5s\n",
      "[CV 3/3] END clf=LogisticRegression(), clf__C=10, clf__penalty=l2, clf__solver=liblinear, vectorize__max_features=10000, vectorize__ngram_range=(1, 2);, score=0.884 total time=  29.5s\n",
      "CPU times: user 9min 50s, sys: 10.1 s, total: 10min\n",
      "Wall time: 10min 7s\n"
     ]
    },
    {
     "data": {
      "text/plain": [
       "GridSearchCV(cv=3,\n",
       "             estimator=Pipeline(steps=[('vectorize',\n",
       "                                        TfidfVectorizer(preprocessor=<function preprocess at 0x7fc9d645adc0>)),\n",
       "                                       ('clf', None)]),\n",
       "             param_grid={'clf': [LogisticRegression()], 'clf__C': [1, 10],\n",
       "                         'clf__penalty': ['l1', 'l2'],\n",
       "                         'clf__solver': ['liblinear'],\n",
       "                         'vectorize__max_features': [10000],\n",
       "                         'vectorize__ngram_range': [(1, 1), (1, 2)]},\n",
       "             refit=False, scoring='accuracy', verbose=3)"
      ]
     },
     "execution_count": 12,
     "metadata": {},
     "output_type": "execute_result"
    }
   ],
   "source": [
    "%%time\n",
    "lr_clf.fit(X_train, y_train)"
   ]
  },
  {
   "cell_type": "code",
   "execution_count": 13,
   "id": "22ecddc0-f81f-4046-a1c5-bf198d35db82",
   "metadata": {},
   "outputs": [
    {
     "data": {
      "text/html": [
       "<div>\n",
       "<style scoped>\n",
       "    .dataframe tbody tr th:only-of-type {\n",
       "        vertical-align: middle;\n",
       "    }\n",
       "\n",
       "    .dataframe tbody tr th {\n",
       "        vertical-align: top;\n",
       "    }\n",
       "\n",
       "    .dataframe thead th {\n",
       "        text-align: right;\n",
       "    }\n",
       "</style>\n",
       "<table border=\"1\" class=\"dataframe\">\n",
       "  <thead>\n",
       "    <tr style=\"text-align: right;\">\n",
       "      <th></th>\n",
       "      <th>mean_fit_time</th>\n",
       "      <th>std_fit_time</th>\n",
       "      <th>mean_score_time</th>\n",
       "      <th>std_score_time</th>\n",
       "      <th>param_clf</th>\n",
       "      <th>param_clf__C</th>\n",
       "      <th>param_clf__penalty</th>\n",
       "      <th>param_clf__solver</th>\n",
       "      <th>param_vectorize__max_features</th>\n",
       "      <th>param_vectorize__ngram_range</th>\n",
       "      <th>params</th>\n",
       "      <th>split0_test_score</th>\n",
       "      <th>split1_test_score</th>\n",
       "      <th>split2_test_score</th>\n",
       "      <th>mean_test_score</th>\n",
       "      <th>std_test_score</th>\n",
       "      <th>rank_test_score</th>\n",
       "    </tr>\n",
       "  </thead>\n",
       "  <tbody>\n",
       "    <tr>\n",
       "      <th>3</th>\n",
       "      <td>22.726697</td>\n",
       "      <td>0.253809</td>\n",
       "      <td>6.618079</td>\n",
       "      <td>0.023526</td>\n",
       "      <td>LogisticRegression()</td>\n",
       "      <td>1</td>\n",
       "      <td>l2</td>\n",
       "      <td>liblinear</td>\n",
       "      <td>10000</td>\n",
       "      <td>(1, 2)</td>\n",
       "      <td>{'clf': LogisticRegression(), 'clf__C': 1, 'cl...</td>\n",
       "      <td>0.892230</td>\n",
       "      <td>0.885922</td>\n",
       "      <td>0.889447</td>\n",
       "      <td>0.889200</td>\n",
       "      <td>0.002581</td>\n",
       "      <td>1</td>\n",
       "    </tr>\n",
       "    <tr>\n",
       "      <th>2</th>\n",
       "      <td>12.148531</td>\n",
       "      <td>0.145682</td>\n",
       "      <td>5.706790</td>\n",
       "      <td>0.054732</td>\n",
       "      <td>LogisticRegression()</td>\n",
       "      <td>1</td>\n",
       "      <td>l2</td>\n",
       "      <td>liblinear</td>\n",
       "      <td>10000</td>\n",
       "      <td>(1, 1)</td>\n",
       "      <td>{'clf': LogisticRegression(), 'clf__C': 1, 'cl...</td>\n",
       "      <td>0.890580</td>\n",
       "      <td>0.883747</td>\n",
       "      <td>0.888322</td>\n",
       "      <td>0.887550</td>\n",
       "      <td>0.002843</td>\n",
       "      <td>2</td>\n",
       "    </tr>\n",
       "    <tr>\n",
       "      <th>7</th>\n",
       "      <td>23.514667</td>\n",
       "      <td>0.844645</td>\n",
       "      <td>6.624786</td>\n",
       "      <td>0.012053</td>\n",
       "      <td>LogisticRegression()</td>\n",
       "      <td>10</td>\n",
       "      <td>l2</td>\n",
       "      <td>liblinear</td>\n",
       "      <td>10000</td>\n",
       "      <td>(1, 2)</td>\n",
       "      <td>{'clf': LogisticRegression(), 'clf__C': 10, 'c...</td>\n",
       "      <td>0.887731</td>\n",
       "      <td>0.879097</td>\n",
       "      <td>0.883597</td>\n",
       "      <td>0.883475</td>\n",
       "      <td>0.003526</td>\n",
       "      <td>3</td>\n",
       "    </tr>\n",
       "    <tr>\n",
       "      <th>6</th>\n",
       "      <td>12.623377</td>\n",
       "      <td>0.509415</td>\n",
       "      <td>6.223050</td>\n",
       "      <td>0.759345</td>\n",
       "      <td>LogisticRegression()</td>\n",
       "      <td>10</td>\n",
       "      <td>l2</td>\n",
       "      <td>liblinear</td>\n",
       "      <td>10000</td>\n",
       "      <td>(1, 1)</td>\n",
       "      <td>{'clf': LogisticRegression(), 'clf__C': 10, 'c...</td>\n",
       "      <td>0.884956</td>\n",
       "      <td>0.878497</td>\n",
       "      <td>0.882772</td>\n",
       "      <td>0.882075</td>\n",
       "      <td>0.002682</td>\n",
       "      <td>4</td>\n",
       "    </tr>\n",
       "    <tr>\n",
       "      <th>1</th>\n",
       "      <td>27.784841</td>\n",
       "      <td>1.172956</td>\n",
       "      <td>7.472712</td>\n",
       "      <td>0.256040</td>\n",
       "      <td>LogisticRegression()</td>\n",
       "      <td>1</td>\n",
       "      <td>l1</td>\n",
       "      <td>liblinear</td>\n",
       "      <td>10000</td>\n",
       "      <td>(1, 2)</td>\n",
       "      <td>{'clf': LogisticRegression(), 'clf__C': 1, 'cl...</td>\n",
       "      <td>0.877756</td>\n",
       "      <td>0.875722</td>\n",
       "      <td>0.878872</td>\n",
       "      <td>0.877450</td>\n",
       "      <td>0.001304</td>\n",
       "      <td>5</td>\n",
       "    </tr>\n",
       "    <tr>\n",
       "      <th>0</th>\n",
       "      <td>14.025983</td>\n",
       "      <td>0.674095</td>\n",
       "      <td>7.188775</td>\n",
       "      <td>0.998675</td>\n",
       "      <td>LogisticRegression()</td>\n",
       "      <td>1</td>\n",
       "      <td>l1</td>\n",
       "      <td>liblinear</td>\n",
       "      <td>10000</td>\n",
       "      <td>(1, 1)</td>\n",
       "      <td>{'clf': LogisticRegression(), 'clf__C': 1, 'cl...</td>\n",
       "      <td>0.876856</td>\n",
       "      <td>0.874072</td>\n",
       "      <td>0.879097</td>\n",
       "      <td>0.876675</td>\n",
       "      <td>0.002055</td>\n",
       "      <td>6</td>\n",
       "    </tr>\n",
       "    <tr>\n",
       "      <th>5</th>\n",
       "      <td>23.836415</td>\n",
       "      <td>0.079054</td>\n",
       "      <td>6.614490</td>\n",
       "      <td>0.019602</td>\n",
       "      <td>LogisticRegression()</td>\n",
       "      <td>10</td>\n",
       "      <td>l1</td>\n",
       "      <td>liblinear</td>\n",
       "      <td>10000</td>\n",
       "      <td>(1, 2)</td>\n",
       "      <td>{'clf': LogisticRegression(), 'clf__C': 10, 'c...</td>\n",
       "      <td>0.868832</td>\n",
       "      <td>0.862897</td>\n",
       "      <td>0.868672</td>\n",
       "      <td>0.866800</td>\n",
       "      <td>0.002761</td>\n",
       "      <td>7</td>\n",
       "    </tr>\n",
       "    <tr>\n",
       "      <th>4</th>\n",
       "      <td>12.926028</td>\n",
       "      <td>0.280068</td>\n",
       "      <td>5.767296</td>\n",
       "      <td>0.131539</td>\n",
       "      <td>LogisticRegression()</td>\n",
       "      <td>10</td>\n",
       "      <td>l1</td>\n",
       "      <td>liblinear</td>\n",
       "      <td>10000</td>\n",
       "      <td>(1, 1)</td>\n",
       "      <td>{'clf': LogisticRegression(), 'clf__C': 10, 'c...</td>\n",
       "      <td>0.866432</td>\n",
       "      <td>0.858396</td>\n",
       "      <td>0.866122</td>\n",
       "      <td>0.863650</td>\n",
       "      <td>0.003717</td>\n",
       "      <td>8</td>\n",
       "    </tr>\n",
       "  </tbody>\n",
       "</table>\n",
       "</div>"
      ],
      "text/plain": [
       "   mean_fit_time  std_fit_time  mean_score_time  std_score_time  \\\n",
       "3      22.726697      0.253809         6.618079        0.023526   \n",
       "2      12.148531      0.145682         5.706790        0.054732   \n",
       "7      23.514667      0.844645         6.624786        0.012053   \n",
       "6      12.623377      0.509415         6.223050        0.759345   \n",
       "1      27.784841      1.172956         7.472712        0.256040   \n",
       "0      14.025983      0.674095         7.188775        0.998675   \n",
       "5      23.836415      0.079054         6.614490        0.019602   \n",
       "4      12.926028      0.280068         5.767296        0.131539   \n",
       "\n",
       "              param_clf param_clf__C param_clf__penalty param_clf__solver  \\\n",
       "3  LogisticRegression()            1                 l2         liblinear   \n",
       "2  LogisticRegression()            1                 l2         liblinear   \n",
       "7  LogisticRegression()           10                 l2         liblinear   \n",
       "6  LogisticRegression()           10                 l2         liblinear   \n",
       "1  LogisticRegression()            1                 l1         liblinear   \n",
       "0  LogisticRegression()            1                 l1         liblinear   \n",
       "5  LogisticRegression()           10                 l1         liblinear   \n",
       "4  LogisticRegression()           10                 l1         liblinear   \n",
       "\n",
       "  param_vectorize__max_features param_vectorize__ngram_range  \\\n",
       "3                         10000                       (1, 2)   \n",
       "2                         10000                       (1, 1)   \n",
       "7                         10000                       (1, 2)   \n",
       "6                         10000                       (1, 1)   \n",
       "1                         10000                       (1, 2)   \n",
       "0                         10000                       (1, 1)   \n",
       "5                         10000                       (1, 2)   \n",
       "4                         10000                       (1, 1)   \n",
       "\n",
       "                                              params  split0_test_score  \\\n",
       "3  {'clf': LogisticRegression(), 'clf__C': 1, 'cl...           0.892230   \n",
       "2  {'clf': LogisticRegression(), 'clf__C': 1, 'cl...           0.890580   \n",
       "7  {'clf': LogisticRegression(), 'clf__C': 10, 'c...           0.887731   \n",
       "6  {'clf': LogisticRegression(), 'clf__C': 10, 'c...           0.884956   \n",
       "1  {'clf': LogisticRegression(), 'clf__C': 1, 'cl...           0.877756   \n",
       "0  {'clf': LogisticRegression(), 'clf__C': 1, 'cl...           0.876856   \n",
       "5  {'clf': LogisticRegression(), 'clf__C': 10, 'c...           0.868832   \n",
       "4  {'clf': LogisticRegression(), 'clf__C': 10, 'c...           0.866432   \n",
       "\n",
       "   split1_test_score  split2_test_score  mean_test_score  std_test_score  \\\n",
       "3           0.885922           0.889447         0.889200        0.002581   \n",
       "2           0.883747           0.888322         0.887550        0.002843   \n",
       "7           0.879097           0.883597         0.883475        0.003526   \n",
       "6           0.878497           0.882772         0.882075        0.002682   \n",
       "1           0.875722           0.878872         0.877450        0.001304   \n",
       "0           0.874072           0.879097         0.876675        0.002055   \n",
       "5           0.862897           0.868672         0.866800        0.002761   \n",
       "4           0.858396           0.866122         0.863650        0.003717   \n",
       "\n",
       "   rank_test_score  \n",
       "3                1  \n",
       "2                2  \n",
       "7                3  \n",
       "6                4  \n",
       "1                5  \n",
       "0                6  \n",
       "5                7  \n",
       "4                8  "
      ]
     },
     "execution_count": 13,
     "metadata": {},
     "output_type": "execute_result"
    }
   ],
   "source": [
    "pd.DataFrame(lr_clf.cv_results_).sort_values('rank_test_score')"
   ]
  },
  {
   "cell_type": "markdown",
   "id": "1c1135cd-2c0b-40bf-9957-17946734a394",
   "metadata": {},
   "source": [
    "# Test Score"
   ]
  },
  {
   "cell_type": "code",
   "execution_count": 14,
   "id": "20471cdc-71bd-408a-8cbc-4449f0328bd2",
   "metadata": {},
   "outputs": [
    {
     "data": {
      "text/plain": [
       "Pipeline(steps=[('vectorize',\n",
       "                 TfidfVectorizer(max_features=10000, ngram_range=(1, 2),\n",
       "                                 preprocessor=<function preprocess at 0x7fc9d645adc0>)),\n",
       "                ('clf', LogisticRegression(C=1, solver='liblinear'))])"
      ]
     },
     "execution_count": 14,
     "metadata": {},
     "output_type": "execute_result"
    }
   ],
   "source": [
    "# selected_params = lr_clf.cv_results_['params'][1]\n",
    "selected_params = lr_clf.best_params_\n",
    "pipeline.set_params(**selected_params)"
   ]
  },
  {
   "cell_type": "code",
   "execution_count": 15,
   "id": "6c09efa7-db4e-4432-a7e5-180989d9c1a6",
   "metadata": {},
   "outputs": [
    {
     "name": "stdout",
     "output_type": "stream",
     "text": [
      "              precision    recall  f1-score   support\n",
      "\n",
      "           0       0.90      0.88      0.89      5035\n",
      "           1       0.88      0.90      0.89      4965\n",
      "\n",
      "    accuracy                           0.89     10000\n",
      "   macro avg       0.89      0.89      0.89     10000\n",
      "weighted avg       0.89      0.89      0.89     10000\n",
      "\n",
      "confusion matrix:\n",
      "[[4455  580]\n",
      " [ 518 4447]]\n",
      "CPU times: user 39.5 s, sys: 722 ms, total: 40.2 s\n",
      "Wall time: 39.6 s\n"
     ]
    }
   ],
   "source": [
    "%%time\n",
    "pipeline.fit(X_train, y_train)\n",
    "y_pred = pipeline.predict(X_test)\n",
    "evaluate(y_test, y_pred)"
   ]
  },
  {
   "cell_type": "code",
   "execution_count": 25,
   "id": "3ed9ecdb-0eba-4ddc-b669-a750e11b12db",
   "metadata": {},
   "outputs": [
    {
     "name": "stdout",
     "output_type": "stream",
     "text": [
      "Accuracy Score: 0.8902\n"
     ]
    }
   ],
   "source": [
    "print(f'Accuracy Score: {pipeline.score(X_test, y_test)}')"
   ]
  },
  {
   "cell_type": "code",
   "execution_count": 16,
   "id": "d72b599d-0b94-4d2a-b305-9edd399c36d6",
   "metadata": {},
   "outputs": [
    {
     "name": "stdout",
     "output_type": "stream",
     "text": [
      "10000\n",
      "2750751\n"
     ]
    }
   ],
   "source": [
    "vect = pipeline['vectorize']\n",
    "print(len(vect.get_feature_names()))\n",
    "print(len(vect.stop_words_))\n"
   ]
  },
  {
   "cell_type": "markdown",
   "id": "5a4174e8-8dd6-48d9-80cd-ac0273ef363d",
   "metadata": {},
   "source": [
    "# Confusion Matrix"
   ]
  },
  {
   "cell_type": "code",
   "execution_count": 17,
   "id": "8c12a038-4fc0-4fc1-a191-abfa6a16fbdd",
   "metadata": {},
   "outputs": [],
   "source": [
    "import matplotlib.pyplot as plt\n",
    "import seaborn as sns"
   ]
  },
  {
   "cell_type": "code",
   "execution_count": 18,
   "id": "fe80ed24-f2c5-4249-ae77-b9da7d54942f",
   "metadata": {},
   "outputs": [
    {
     "data": {
      "image/png": "[encoded data removed]",
      "text/plain": [
       "<Figure size 576x576 with 1 Axes>"
      ]
     },
     "metadata": {
      "needs_background": "light"
     },
     "output_type": "display_data"
    }
   ],
   "source": [
    "fig_dims = (8, 8)\n",
    "fig, ax = plt.subplots(figsize=fig_dims)\n",
    "\n",
    "cm = confusion_matrix(y_test, y_pred, normalize='true')\n",
    "sns.heatmap(cm.T,\n",
    "            square=True,\n",
    "            annot=True,\n",
    "            cbar=False,\n",
    "            cmap=\"YlGnBu\",\n",
    "            annot_kws={\"size\": 18},\n",
    "            xticklabels=['negative', 'positive'],\n",
    "            yticklabels=['negative', 'positive'])\n",
    "plt.xlabel('true label')\n",
    "plt.ylabel('predicted label')\n",
    "plt.title(\"Normalized Classificaion Performance of IMDB Reviews\");"
   ]
  },
  {
   "cell_type": "markdown",
   "id": "26bdac2b-b846-40cb-9248-8f5a3e3eed01",
   "metadata": {},
   "source": [
    "# Tenet Review\n",
    "Recent reviews of Tenent from IMDB"
   ]
  },
  {
   "cell_type": "code",
   "execution_count": 19,
   "id": "7b9db250-21fc-4e45-8fec-81f8df9ea4cd",
   "metadata": {},
   "outputs": [],
   "source": [
    "tenet_review_good = \"\"\"\n",
    "Its somewhat ironic that a movie about time travel can't be reviewed properly until your future self rewatches the movie.\n",
    "\n",
    "It's bold of Nolan to make such a thoroughly dense blockbuster. He assumes people will actually want to see Tenet more than once so they can understand it properly, which some may not. This movie makes the chronology of Inception look as simplistic as tic-tac-toe.\n",
    "\n",
    "Ergo, it's hard for me to give an accurate rating, without having seen it twice, as I'm still trying to figure out whether everything does indeed make sense. If it does, this movie is easily a 9 or 10. If it doesn't, it's a 6.\n",
    "\n",
    "It's further not helped by the fact that the dialogue in the first 15 minutes of the movie is painfully hard to understand / hear. Either they were behind masks; they were practically mumbling; the sound effects were too loud; or all of the above. The exposition scenes are also waayyy too brief for something this complex -- a problem also shared with Interstellar actually.\n",
    "\n",
    "(Interstellar had this minimalist exposition problem explaining Blight, where if you weren't careful, you'd miss this one sentence / scene in the entire movie explaining that Blight was a viral bacteria:\n",
    "\n",
    "\"Earth's atmosphere is 80% nitrogen, we don't even breathe nitrogen. Blight does, and as it thrives, our air gets less and less oxygen\").\n",
    "\n",
    "I guess it's a Nolan quirk. Hopefully, a revision of the film audio sorts the sound mixing out. I do like the soundtrack, but it's too loud initially.\n",
    "\n",
    "I liked all the actors. You think John Washington can't act at first, but he can, and he grows on you as the film progresses. And Pattinson is his usual charming self. Elizabeth is a surprise treat. And so on.\n",
    "\n",
    "Its worth a watch either way. See it with subtitles if you can. And definitely don't expect to fully understand whats going on the first time around.\"\"\"\n",
    "\n",
    "tenet_reiew_bad = \"\"\"\n",
    "A man on an international mission to save the world from the deadliest weapon of all, the future.\n",
    "\n",
    "Two moods: excessive incomprehensible exposition and LOUD incomprehensible action sequences. At no point do you know what is going on, nor are you given any reason to care. It is at all times tedious, meaningless and irritating. None of the characters are remotely interesting, much of the dialogue is inaudible and the ridiculous convolutions add up to nothing. And this cost over $200 million to make.\"\"\""
   ]
  },
  {
   "cell_type": "code",
   "execution_count": 20,
   "id": "729cd660-68c0-41d9-8213-0c87cf81a49c",
   "metadata": {},
   "outputs": [
    {
     "name": "stdout",
     "output_type": "stream",
     "text": [
      "good review\n",
      "classification: positive\n",
      "[[0.38910838 0.61089162]]\n",
      "\n",
      "bad review\n",
      "classification: negative\n",
      "[[0.98454911 0.01545089]]\n"
     ]
    }
   ],
   "source": [
    "prediction = lambda proba_positive : 'positive' if proba_positive >= .5 else 'negative'\n",
    "\n",
    "print(\"good review\")\n",
    "pred = pipeline.predict([tenet_review_good])[0]\n",
    "print(f'classification: {prediction(pred)}')\n",
    "print(pipeline.predict_proba([tenet_review_good]))\n",
    "\n",
    "print(\"\\nbad review\")\n",
    "pred = pipeline.predict([tenet_reiew_bad])[0]\n",
    "print(f'classification: {prediction(pred)}')\n",
    "print(pipeline.predict_proba([tenet_reiew_bad]))"
   ]
  },
  {
   "cell_type": "markdown",
   "id": "1600fb04-4520-44b5-ae21-1da91a5f8ed9",
   "metadata": {},
   "source": [
    "# Example Predicion\n",
    "- `coef` is the token coefficient learned from training the model\n",
    "- `x` is the representation of the doc after a tf-idf transformation "
   ]
  },
  {
   "cell_type": "code",
   "execution_count": 21,
   "id": "96699621-187a-4897-ada1-81c9b1614be2",
   "metadata": {},
   "outputs": [],
   "source": [
    "import numpy as np"
   ]
  },
  {
   "cell_type": "code",
   "execution_count": 22,
   "id": "934526b8-71c3-41a0-a7a3-7257292b9f20",
   "metadata": {},
   "outputs": [
    {
     "data": {
      "text/html": [
       "<div>\n",
       "<style scoped>\n",
       "    .dataframe tbody tr th:only-of-type {\n",
       "        vertical-align: middle;\n",
       "    }\n",
       "\n",
       "    .dataframe tbody tr th {\n",
       "        vertical-align: top;\n",
       "    }\n",
       "\n",
       "    .dataframe thead th {\n",
       "        text-align: right;\n",
       "    }\n",
       "</style>\n",
       "<table border=\"1\" class=\"dataframe\">\n",
       "  <thead>\n",
       "    <tr style=\"text-align: right;\">\n",
       "      <th></th>\n",
       "      <th>coef</th>\n",
       "      <th>x</th>\n",
       "    </tr>\n",
       "  </thead>\n",
       "  <tbody>\n",
       "    <tr>\n",
       "      <th>acting</th>\n",
       "      <td>-2.233593</td>\n",
       "      <td>0.062589</td>\n",
       "    </tr>\n",
       "    <tr>\n",
       "      <th>acting horrible</th>\n",
       "      <td>-0.568842</td>\n",
       "      <td>0.169834</td>\n",
       "    </tr>\n",
       "    <tr>\n",
       "      <th>anymore</th>\n",
       "      <td>0.276971</td>\n",
       "      <td>0.131352</td>\n",
       "    </tr>\n",
       "    <tr>\n",
       "      <th>are</th>\n",
       "      <td>0.367516</td>\n",
       "      <td>0.135532</td>\n",
       "    </tr>\n",
       "    <tr>\n",
       "      <th>awful</th>\n",
       "      <td>-7.274725</td>\n",
       "      <td>0.095477</td>\n",
       "    </tr>\n",
       "    <tr>\n",
       "      <th>...</th>\n",
       "      <td>...</td>\n",
       "      <td>...</td>\n",
       "    </tr>\n",
       "    <tr>\n",
       "      <th>want say</th>\n",
       "      <td>0.288206</td>\n",
       "      <td>0.179308</td>\n",
       "    </tr>\n",
       "    <tr>\n",
       "      <th>watch</th>\n",
       "      <td>0.906517</td>\n",
       "      <td>0.062092</td>\n",
       "    </tr>\n",
       "    <tr>\n",
       "      <th>wish</th>\n",
       "      <td>0.617925</td>\n",
       "      <td>0.106651</td>\n",
       "    </tr>\n",
       "    <tr>\n",
       "      <th>writers</th>\n",
       "      <td>-1.846112</td>\n",
       "      <td>0.116244</td>\n",
       "    </tr>\n",
       "    <tr>\n",
       "      <th>yes</th>\n",
       "      <td>0.345144</td>\n",
       "      <td>0.097854</td>\n",
       "    </tr>\n",
       "  </tbody>\n",
       "</table>\n",
       "<p>63 rows × 2 columns</p>\n",
       "</div>"
      ],
      "text/plain": [
       "                     coef         x\n",
       "acting          -2.233593  0.062589\n",
       "acting horrible -0.568842  0.169834\n",
       "anymore          0.276971  0.131352\n",
       "are              0.367516  0.135532\n",
       "awful           -7.274725  0.095477\n",
       "...                   ...       ...\n",
       "want say         0.288206  0.179308\n",
       "watch            0.906517  0.062092\n",
       "wish             0.617925  0.106651\n",
       "writers         -1.846112  0.116244\n",
       "yes              0.345144  0.097854\n",
       "\n",
       "[63 rows x 2 columns]"
      ]
     },
     "execution_count": 22,
     "metadata": {},
     "output_type": "execute_result"
    }
   ],
   "source": [
    "sample_idx = 40000\n",
    "\n",
    "feature_names = pipeline['vectorize'].get_feature_names()\n",
    "sample_review = pipeline['vectorize'].transform([X_train[sample_idx]]).toarray()[0] # vectorize a sample reveiw\n",
    "\n",
    "coefs = dict(zip(feature_names, pipeline['clf'].coef_[0])) # Learned coefficients\n",
    "x_sample = dict(zip(feature_names, sample_review)) # TF-IDF representation of movie review\n",
    "sample_doc = pd.DataFrame([coefs, x_sample], ['coef', 'x']).T\n",
    "\n",
    "# print(X_train[sample_idx])\n",
    "mask = sample_doc['x'] > 0\n",
    "sample_doc[mask]"
   ]
  },
  {
   "cell_type": "code",
   "execution_count": 23,
   "id": "c05a3f5f-f67f-4b46-a555-3979e84885f4",
   "metadata": {},
   "outputs": [
    {
     "name": "stdout",
     "output_type": "stream",
     "text": [
      "Calculated prediction\n",
      "Theta: -5.2072\n",
      "probability positive: 0.005447\n",
      "prediction: negative\n",
      "\n",
      "Pipeline prediction\n",
      "probability positive: 0.005447\n",
      "prediction: negative\n"
     ]
    }
   ],
   "source": [
    "y_intercept = pipeline['clf'].intercept_[0]\n",
    "theta = sum(sample_doc['coef'] * sample_doc['x']) + y_intercept\n",
    "proba_positive = 1 / (1 + np.exp(-1 * theta)) # sigmoid function\n",
    "\n",
    "prediction = lambda proba_positive : 'positive' if proba_positive >= .5 else 'negative'\n",
    "\n",
    "print(\"Calculated prediction\")\n",
    "print(f'Theta: {theta:.4f}')\n",
    "print(f'probability positive: {proba_positive:.6f}')\n",
    "print(f'prediction: {prediction(proba_positive)}')\n",
    "\n",
    "print(\"\\nPipeline prediction\")\n",
    "\n",
    "pipeline_proba = pipeline.predict_proba([X_train[sample_idx]])[0][1]\n",
    "\n",
    "print(f'probability positive: {pipeline_proba:.6f}')\n",
    "print(f'prediction: {prediction(pipeline_proba)}')"
   ]
  }
 ],
 "metadata": {
  "kernelspec": {
   "display_name": "trustpage",
   "language": "python",
   "name": "trustpage"
  },
  "language_info": {
   "codemirror_mode": {
    "name": "ipython",
    "version": 3
   },
   "file_extension": ".py",
   "mimetype": "text/x-python",
   "name": "python",
   "nbconvert_exporter": "python",
   "pygments_lexer": "ipython3",
   "version": "3.9.5"
  }
 },
 "nbformat": 4,
 "nbformat_minor": 5
}
